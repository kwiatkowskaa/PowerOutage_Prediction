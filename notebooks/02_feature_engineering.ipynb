{
 "cells": [
  {
   "cell_type": "markdown",
   "metadata": {},
   "source": [
    "## Feature Engineering & Justification"
   ]
  },
  {
   "cell_type": "markdown",
   "metadata": {},
   "source": [
    "### DATA CLEANING"
   ]
  },
  {
   "cell_type": "markdown",
   "metadata": {},
   "source": [
    "Missing values in the latitude and longitude columns will be filled using the geopy library, which can convert a place (like a county) into its corresponding latitude and longitude."
   ]
  },
  {
   "cell_type": "code",
   "execution_count": null,
   "metadata": {},
   "outputs": [],
   "source": [
    "nom = ArcGIS()\n",
    "def get_coordinates(county_name):\n",
    "    try:\n",
    "        location = nom.geocode(county_name)\n",
    "        if location:\n",
    "            return location.latitude, location.longitude\n",
    "    except (GeocoderTimedOut, GeocoderServiceError) as e:\n",
    "        print(f\"Error geocoding {county_name}: {e}\")\n",
    "    return None, None"
   ]
  },
  {
   "cell_type": "code",
   "execution_count": null,
   "metadata": {},
   "outputs": [],
   "source": [
    "for index, row in stormEvents_2014.iterrows():\n",
    "    if pd.isna(row['BEGIN_LAT']) or pd.isna(row['BEGIN_LON']):\n",
    "        lat, lon = get_coordinates(row['CZ_NAME'])\n",
    "        if lat is not None and lon is not None:\n",
    "            stormEvents_2014.at[index, 'BEGIN_LAT'] = lat\n",
    "            stormEvents_2014.at[index, 'BEGIN_LON'] = lon\n",
    "            stormEvents_2014.at[index, 'END_LAT'] = lat\n",
    "            stormEvents_2014.at[index, 'END_LON'] = lon"
   ]
  },
  {
   "cell_type": "code",
   "execution_count": null,
   "metadata": {},
   "outputs": [],
   "source": [
    "stormEvents_2014[['CZ_NAME', 'BEGIN_LAT', 'BEGIN_LON']]"
   ]
  }
 ],
 "metadata": {
  "language_info": {
   "name": "python"
  }
 },
 "nbformat": 4,
 "nbformat_minor": 2
}
